{
 "cells": [
  {
   "cell_type": "markdown",
   "id": "offensive-circuit",
   "metadata": {},
   "source": [
    "# Explore and Diagnose our Models\n",
    "\n",
    "Adapted from: https://blog.rasa.com/evaluating-rasa-nlu-models-in-jupyter/"
   ]
  },
  {
   "cell_type": "code",
   "execution_count": null,
   "id": "cultural-omega",
   "metadata": {},
   "outputs": [],
   "source": [
    "# setup\n",
    "\n",
    "from rasa.cli.utils import get_validated_path\n",
    "from rasa.model import get_model, get_model_subdirectories\n",
    "from rasa.nlu.model import Interpreter\n",
    "import rasa.shared.nlu.training_data.loading as nlu_loading\n",
    "from pprint import pprint\n",
    "import pandas as pd \n",
    "from sklearn.metrics import classification_report\n",
    "\n",
    "\n",
    "\n",
    "\n",
    "def load_interpreter(model_path):\n",
    "    \"\"\"\n",
    "    This loads the Rasa NLU interpreter. It is able to apply all NLU\n",
    "    pipeline steps to a text that you provide it. \n",
    "    \"\"\"\n",
    "    model = get_validated_path(model_path, \"model\")\n",
    "    model_path = get_model(model)\n",
    "    _, nlu_model = get_model_subdirectories(model_path)\n",
    "    return Interpreter.load(nlu_model)\n",
    "\n",
    "# nlu_interpreter = load_interpreter(\"models/20210307-100229.tar.gz\")"
   ]
  },
  {
   "cell_type": "code",
   "execution_count": null,
   "id": "explicit-breast",
   "metadata": {},
   "outputs": [],
   "source": [
    "# what do we have\n",
    "\n",
    "# type(nlu_interpreter)"
   ]
  },
  {
   "cell_type": "code",
   "execution_count": null,
   "id": "lined-cement",
   "metadata": {},
   "outputs": [],
   "source": [
    "# methods\n",
    "\n",
    "# dir(nlu_interpreter)"
   ]
  },
  {
   "cell_type": "code",
   "execution_count": null,
   "id": "stuffed-fairy",
   "metadata": {},
   "outputs": [],
   "source": [
    "# as per the blog, the pipeline is accessible\n",
    "# nlu_interpreter.pipeline"
   ]
  },
  {
   "cell_type": "code",
   "execution_count": null,
   "id": "labeled-gather",
   "metadata": {},
   "outputs": [],
   "source": [
    "# lets parse a message and see that under the hood is an api\n",
    "# nlu_interpreter.parse(\"hello\")"
   ]
  },
  {
   "cell_type": "markdown",
   "id": "alike-andrew",
   "metadata": {},
   "source": [
    "## NLU data\n"
   ]
  },
  {
   "cell_type": "code",
   "execution_count": 3,
   "id": "organic-twenty",
   "metadata": {},
   "outputs": [],
   "source": [
    "# load the nlu data\n",
    "\n",
    "# train_data = nlu_loading.load_data(\"data/nlu.yml\")"
   ]
  },
  {
   "cell_type": "code",
   "execution_count": null,
   "id": "fleet-norman",
   "metadata": {},
   "outputs": [],
   "source": [
    "# what do we have\n"
   ]
  },
  {
   "cell_type": "code",
   "execution_count": null,
   "id": "younger-laugh",
   "metadata": {},
   "outputs": [],
   "source": [
    "# lets look a few examples\n",
    "\n",
    "# [m.as_dict() for m in train_data.intent_examples][:5]"
   ]
  },
  {
   "cell_type": "code",
   "execution_count": 4,
   "id": "cubic-secretariat",
   "metadata": {},
   "outputs": [],
   "source": [
    "# we talked about the pipeline and how rasa is preprocessing and featurizing our data\n",
    "# lets look at this for the first message\n",
    "\n",
    "# message = train_data.intent_examples[0]\n",
    "# for component in nlu_interpreter.pipeline:\n",
    "#     component.process(message)\n"
   ]
  },
  {
   "cell_type": "code",
   "execution_count": null,
   "id": "developmental-delicious",
   "metadata": {},
   "outputs": [],
   "source": [
    "# what does the message have?\n",
    "# . method\n"
   ]
  },
  {
   "cell_type": "code",
   "execution_count": null,
   "id": "healthy-output",
   "metadata": {},
   "outputs": [],
   "source": [
    "# we can a peak inside\n",
    "# its not just about the utterances, but also the responses\n",
    "# the text features for a response are attempted to aligned with an predicted action from the stories\n",
    "\n",
    "# sparse_token_feats, sparse_utterance_feats = message.get_sparse_features(\"text\")"
   ]
  },
  {
   "cell_type": "code",
   "execution_count": null,
   "id": "driven-poland",
   "metadata": {},
   "outputs": [],
   "source": [
    "# remember dense matrices?\n",
    "\n",
    "# sparse_utterance_feats.features.todense().shape"
   ]
  },
  {
   "cell_type": "code",
   "execution_count": 5,
   "id": "ultimate-imaging",
   "metadata": {},
   "outputs": [],
   "source": [
    "######################### lets use the NLU model\n",
    "## this will allow us to iterate over intents and predict\n",
    "## the intent\n",
    "\n",
    "def add_predictions(dataf, nlu):\n",
    "    \"\"\"This function will add prediction columns based on `nlu`\"\"\"\n",
    "    pred_blob = [nlu.parse(t)['intent'] for t in dataf['text']]\n",
    "    return (dataf\n",
    "            [['text', 'intent']]\n",
    "            .assign(pred_intent=[p['name'] for p in pred_blob])\n",
    "            .assign(pred_confidence=[p['confidence'] for p in pred_blob]))\n",
    "\n",
    "\n",
    "# list of dictionaries\n",
    "data_list = [m.as_dict() for m in train_data.intent_examples]\n",
    "\n",
    "# construct the df and apply the predictions via nlu interpreter\n",
    "df_intents = pd.DataFrame(data_list).pipe(add_predictions, nlu=nlu_interpreter)"
   ]
  },
  {
   "cell_type": "code",
   "execution_count": 6,
   "id": "supreme-agency",
   "metadata": {},
   "outputs": [
    {
     "data": {
      "text/html": [
       "<div>\n",
       "<style scoped>\n",
       "    .dataframe tbody tr th:only-of-type {\n",
       "        vertical-align: middle;\n",
       "    }\n",
       "\n",
       "    .dataframe tbody tr th {\n",
       "        vertical-align: top;\n",
       "    }\n",
       "\n",
       "    .dataframe thead th {\n",
       "        text-align: right;\n",
       "    }\n",
       "</style>\n",
       "<table border=\"1\" class=\"dataframe\">\n",
       "  <thead>\n",
       "    <tr style=\"text-align: right;\">\n",
       "      <th></th>\n",
       "      <th>text</th>\n",
       "      <th>intent</th>\n",
       "      <th>pred_intent</th>\n",
       "      <th>pred_confidence</th>\n",
       "    </tr>\n",
       "  </thead>\n",
       "  <tbody>\n",
       "    <tr>\n",
       "      <th>0</th>\n",
       "      <td>hey</td>\n",
       "      <td>{'id': -4957217158235688328, 'name': 'greet', ...</td>\n",
       "      <td>greet</td>\n",
       "      <td>0.999997</td>\n",
       "    </tr>\n",
       "    <tr>\n",
       "      <th>1</th>\n",
       "      <td>hello</td>\n",
       "      <td>greet</td>\n",
       "      <td>greet</td>\n",
       "      <td>0.999997</td>\n",
       "    </tr>\n",
       "    <tr>\n",
       "      <th>2</th>\n",
       "      <td>hi</td>\n",
       "      <td>greet</td>\n",
       "      <td>greet</td>\n",
       "      <td>0.999997</td>\n",
       "    </tr>\n",
       "    <tr>\n",
       "      <th>3</th>\n",
       "      <td>hello there</td>\n",
       "      <td>greet</td>\n",
       "      <td>greet</td>\n",
       "      <td>0.999992</td>\n",
       "    </tr>\n",
       "    <tr>\n",
       "      <th>4</th>\n",
       "      <td>good morning</td>\n",
       "      <td>greet</td>\n",
       "      <td>greet</td>\n",
       "      <td>0.999987</td>\n",
       "    </tr>\n",
       "    <tr>\n",
       "      <th>...</th>\n",
       "      <td>...</td>\n",
       "      <td>...</td>\n",
       "      <td>...</td>\n",
       "      <td>...</td>\n",
       "    </tr>\n",
       "    <tr>\n",
       "      <th>77</th>\n",
       "      <td>what to do next?</td>\n",
       "      <td>learn_more</td>\n",
       "      <td>learn_more</td>\n",
       "      <td>0.999287</td>\n",
       "    </tr>\n",
       "    <tr>\n",
       "      <th>78</th>\n",
       "      <td>how can I get help with rasa</td>\n",
       "      <td>learn_more</td>\n",
       "      <td>learn_more</td>\n",
       "      <td>0.999508</td>\n",
       "    </tr>\n",
       "    <tr>\n",
       "      <th>79</th>\n",
       "      <td>I want to learn more</td>\n",
       "      <td>learn_more</td>\n",
       "      <td>learn_more</td>\n",
       "      <td>0.999436</td>\n",
       "    </tr>\n",
       "    <tr>\n",
       "      <th>80</th>\n",
       "      <td>i want to learn more about this</td>\n",
       "      <td>learn_more</td>\n",
       "      <td>learn_more</td>\n",
       "      <td>0.999286</td>\n",
       "    </tr>\n",
       "    <tr>\n",
       "      <th>81</th>\n",
       "      <td>what can rasa do</td>\n",
       "      <td>learn_more</td>\n",
       "      <td>learn_more</td>\n",
       "      <td>0.999362</td>\n",
       "    </tr>\n",
       "  </tbody>\n",
       "</table>\n",
       "<p>82 rows × 4 columns</p>\n",
       "</div>"
      ],
      "text/plain": [
       "                               text  \\\n",
       "0                               hey   \n",
       "1                             hello   \n",
       "2                                hi   \n",
       "3                       hello there   \n",
       "4                      good morning   \n",
       "..                              ...   \n",
       "77                 what to do next?   \n",
       "78     how can I get help with rasa   \n",
       "79             I want to learn more   \n",
       "80  i want to learn more about this   \n",
       "81                 what can rasa do   \n",
       "\n",
       "                                               intent pred_intent  \\\n",
       "0   {'id': -4957217158235688328, 'name': 'greet', ...       greet   \n",
       "1                                               greet       greet   \n",
       "2                                               greet       greet   \n",
       "3                                               greet       greet   \n",
       "4                                               greet       greet   \n",
       "..                                                ...         ...   \n",
       "77                                         learn_more  learn_more   \n",
       "78                                         learn_more  learn_more   \n",
       "79                                         learn_more  learn_more   \n",
       "80                                         learn_more  learn_more   \n",
       "81                                         learn_more  learn_more   \n",
       "\n",
       "    pred_confidence  \n",
       "0          0.999997  \n",
       "1          0.999997  \n",
       "2          0.999997  \n",
       "3          0.999992  \n",
       "4          0.999987  \n",
       "..              ...  \n",
       "77         0.999287  \n",
       "78         0.999508  \n",
       "79         0.999436  \n",
       "80         0.999286  \n",
       "81         0.999362  \n",
       "\n",
       "[82 rows x 4 columns]"
      ]
     },
     "execution_count": 6,
     "metadata": {},
     "output_type": "execute_result"
    }
   ],
   "source": [
    "df_intents"
   ]
  },
  {
   "cell_type": "code",
   "execution_count": 7,
   "id": "aggressive-password",
   "metadata": {},
   "outputs": [],
   "source": [
    "# lets cleanup - not sure why the first chokes\n",
    "\n",
    "# df_intents2 = df_intents.iloc[1:, :]"
   ]
  },
  {
   "cell_type": "code",
   "execution_count": 8,
   "id": "private-ending",
   "metadata": {},
   "outputs": [
    {
     "data": {
      "text/html": [
       "<div>\n",
       "<style scoped>\n",
       "    .dataframe tbody tr th:only-of-type {\n",
       "        vertical-align: middle;\n",
       "    }\n",
       "\n",
       "    .dataframe tbody tr th {\n",
       "        vertical-align: top;\n",
       "    }\n",
       "\n",
       "    .dataframe thead th {\n",
       "        text-align: right;\n",
       "    }\n",
       "</style>\n",
       "<table border=\"1\" class=\"dataframe\">\n",
       "  <thead>\n",
       "    <tr style=\"text-align: right;\">\n",
       "      <th></th>\n",
       "      <th>n</th>\n",
       "      <th>mean_conf</th>\n",
       "    </tr>\n",
       "    <tr>\n",
       "      <th>pred_intent</th>\n",
       "      <th></th>\n",
       "      <th></th>\n",
       "    </tr>\n",
       "  </thead>\n",
       "  <tbody>\n",
       "    <tr>\n",
       "      <th>affirm</th>\n",
       "      <td>7</td>\n",
       "      <td>0.999554</td>\n",
       "    </tr>\n",
       "    <tr>\n",
       "      <th>bot_challenge</th>\n",
       "      <td>5</td>\n",
       "      <td>0.999777</td>\n",
       "    </tr>\n",
       "    <tr>\n",
       "      <th>deny</th>\n",
       "      <td>7</td>\n",
       "      <td>0.999667</td>\n",
       "    </tr>\n",
       "    <tr>\n",
       "      <th>goodbye</th>\n",
       "      <td>11</td>\n",
       "      <td>0.999972</td>\n",
       "    </tr>\n",
       "    <tr>\n",
       "      <th>greet</th>\n",
       "      <td>15</td>\n",
       "      <td>0.942581</td>\n",
       "    </tr>\n",
       "    <tr>\n",
       "      <th>learn_more</th>\n",
       "      <td>7</td>\n",
       "      <td>0.999456</td>\n",
       "    </tr>\n",
       "    <tr>\n",
       "      <th>mood_great</th>\n",
       "      <td>15</td>\n",
       "      <td>0.999990</td>\n",
       "    </tr>\n",
       "    <tr>\n",
       "      <th>mood_unhappy</th>\n",
       "      <td>14</td>\n",
       "      <td>0.999991</td>\n",
       "    </tr>\n",
       "  </tbody>\n",
       "</table>\n",
       "</div>"
      ],
      "text/plain": [
       "                n  mean_conf\n",
       "pred_intent                 \n",
       "affirm          7   0.999554\n",
       "bot_challenge   5   0.999777\n",
       "deny            7   0.999667\n",
       "goodbye        11   0.999972\n",
       "greet          15   0.942581\n",
       "learn_more      7   0.999456\n",
       "mood_great     15   0.999990\n",
       "mood_unhappy   14   0.999991"
      ]
     },
     "execution_count": 8,
     "metadata": {},
     "output_type": "execute_result"
    }
   ],
   "source": [
    "# summarize\n",
    "\n",
    "# (df_intents2\n",
    "#  .groupby('pred_intent')\n",
    "#  .agg(n=('pred_confidence', 'size'),\n",
    "#       mean_conf=('pred_confidence', 'mean')))"
   ]
  },
  {
   "cell_type": "code",
   "execution_count": 9,
   "id": "sustained-inquiry",
   "metadata": {},
   "outputs": [
    {
     "name": "stdout",
     "output_type": "stream",
     "text": [
      "               precision    recall  f1-score   support\n",
      "\n",
      "       affirm       1.00      1.00      1.00         7\n",
      "bot_challenge       1.00      1.00      1.00         5\n",
      "         deny       1.00      1.00      1.00         7\n",
      "      goodbye       1.00      0.92      0.96        12\n",
      "        greet       0.93      1.00      0.97        14\n",
      "   learn_more       1.00      1.00      1.00         7\n",
      "   mood_great       1.00      1.00      1.00        15\n",
      " mood_unhappy       1.00      1.00      1.00        14\n",
      "\n",
      "     accuracy                           0.99        81\n",
      "    macro avg       0.99      0.99      0.99        81\n",
      " weighted avg       0.99      0.99      0.99        81\n",
      "\n"
     ]
    }
   ],
   "source": [
    "# we can use sklearn!\n",
    "\n",
    "# cr = classification_report(y_true=df_intents2['intent'], y_pred=df_intents2['pred_intent'])\n",
    "# print(cr)"
   ]
  },
  {
   "cell_type": "code",
   "execution_count": null,
   "id": "parental-azerbaijan",
   "metadata": {},
   "outputs": [],
   "source": []
  }
 ],
 "metadata": {
  "kernelspec": {
   "display_name": "Python 3",
   "language": "python",
   "name": "python3"
  },
  "language_info": {
   "codemirror_mode": {
    "name": "ipython",
    "version": 3
   },
   "file_extension": ".py",
   "mimetype": "text/x-python",
   "name": "python",
   "nbconvert_exporter": "python",
   "pygments_lexer": "ipython3",
   "version": "3.7.10"
  }
 },
 "nbformat": 4,
 "nbformat_minor": 5
}